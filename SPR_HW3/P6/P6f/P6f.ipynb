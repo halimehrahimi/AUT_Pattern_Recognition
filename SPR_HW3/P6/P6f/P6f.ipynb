{
 "cells": [
  {
   "cell_type": "code",
   "execution_count": 1,
   "metadata": {},
   "outputs": [],
   "source": [
    "import pandas as pd\n",
    "import numpy as np\n",
    "import matplotlib.pyplot as plt\n",
    "import numdifftools as nm"
   ]
  },
  {
   "cell_type": "markdown",
   "metadata": {},
   "source": [
    "# Part f"
   ]
  },
  {
   "cell_type": "code",
   "execution_count": 2,
   "metadata": {},
   "outputs": [],
   "source": [
    "def prepare_data(chosenspecies):\n",
    "    df = pd.read_csv('F:/Uni/991/Pattern/SPR_HW3/SPR_HW3/inputs/P6/penguins.csv')\n",
    "    df = df.loc[:,['bill_length_mm', 'bill_depth_mm', 'species']]\n",
    "    df = df.fillna(df.mean())\n",
    "    df = df.sample(frac=1 ,replace=False, axis = 0).reset_index(drop=True)\n",
    "    df_train = df.iloc[:300]\n",
    "    df_test = df.iloc[300:]\n",
    "    df_train1 = pd.concat([df_train[df_train['species']==chosenspecies[1]], df_train[df_train['species']==chosenspecies[0]]]).reset_index(drop=True)\n",
    "    df_train1 = pd.concat([pd.DataFrame({'x0':np.ones((df_train1.shape[0]))}), df_train1], axis=1)\n",
    "    df_train1 = df_train1.sample(frac=1 ,replace=False, axis = 0).reset_index(drop=True)\n",
    "    df_test1 = pd.concat([df_test[df_test['species']==chosenspecies[1]], df_test[df_test['species']==chosenspecies[0]]]).reset_index(drop=True)\n",
    "    df_test1 = pd.concat([pd.DataFrame({'x0':np.ones((df_test1.shape[0]))}), df_test1], axis=1)\n",
    "    df_test1 = df_test1.sample(frac=1 ,replace=False, axis = 0).reset_index(drop=True)\n",
    "    for i in range(df_train1.shape[0]):\n",
    "        if df_train1.loc[i,'species'] == chosenspecies[1]:\n",
    "            df_train1.loc[i, 'x0']*=-1\n",
    "            df_train1.loc[i, 'bill_length_mm']*=-1\n",
    "            df_train1.loc[i, 'bill_depth_mm']*=-1\n",
    "    for j in range(df_test1.shape[0]):\n",
    "        if df_test1.loc[j,'species'] == chosenspecies[1]:\n",
    "            df_test1.loc[j, 'x0']*=-1\n",
    "            df_test1.loc[j, 'bill_length_mm']*=-1\n",
    "            df_test1.loc[j, 'bill_depth_mm']*=-1\n",
    "    x_train1 = np.array(df_train1.drop(columns='species'))\n",
    "    y_train1 = np.array(df_train1['species'].mask(df_train1['species']==chosenspecies[0], 1).mask(df_train1['species']==chosenspecies[1], -1))\n",
    "    y_train1 = np.expand_dims(y_train1, axis=1)\n",
    "    x_test1 = np.array(df_test1.drop(columns='species'))\n",
    "    y_test1 = np.array(df_test1['species'].mask(df_test1['species']==chosenspecies[0], 1).mask(df_test1['species']==chosenspecies[1], -1))\n",
    "    y_test1 = np.expand_dims(y_test1, axis=1)\n",
    "    w0 = df_train1.loc[df_train1['species']==chosenspecies[0],['bill_length_mm',  'bill_depth_mm']].reset_index(drop=True)\n",
    "    w1 = df_train1.loc[df_train1['species']==chosenspecies[1],['bill_length_mm',  'bill_depth_mm']].reset_index(drop=True)\n",
    "    return x_train1, y_train1, x_test1, y_test1, w0, w1"
   ]
  },
  {
   "cell_type": "code",
   "execution_count": 3,
   "metadata": {},
   "outputs": [],
   "source": [
    "def Normalize(x):\n",
    "    norm_x = np.ones((x.shape[0], x.shape[1]))\n",
    "    for i in range(1,x.shape[1]):\n",
    "        min_x = np.amin(x[:,i])\n",
    "        max_x = np.amax(x[:,i])\n",
    "        norm_x[:,i] = (x[:,i] - min_x)/(max_x - min_x)\n",
    "    return norm_x"
   ]
  },
  {
   "cell_type": "code",
   "execution_count": 4,
   "metadata": {},
   "outputs": [],
   "source": [
    "def ComputeCost(y, h_of_x):\n",
    "    mse = (1/y.shape[0]) * np.sum(np.power(h_of_x - y, 2))\n",
    "    return mse"
   ]
  },
  {
   "cell_type": "code",
   "execution_count": 5,
   "metadata": {},
   "outputs": [],
   "source": [
    "def ComputeHypothesis(data, theta):\n",
    "    h_of_x = np.ones((data.shape[0], 1))\n",
    "    for i in range(0,data.shape[0]):\n",
    "        h_of_x[i] = np.dot(np.transpose(theta), np.expand_dims(data[i,:], axis=1))\n",
    "        if h_of_x[i] > 0:\n",
    "            h_of_x[i] = 1\n",
    "        elif h_of_x[i] <= 0:\n",
    "            h_of_x[i] = -1\n",
    "    return h_of_x"
   ]
  },
  {
   "cell_type": "code",
   "execution_count": 6,
   "metadata": {},
   "outputs": [],
   "source": [
    "def GradientDescent(y, data, num_iter, alpha):\n",
    "    theta = np.ones((data.shape[1], 1))\n",
    "    mselist = np.zeros(num_iter)\n",
    "    h_of_x = ComputeHypothesis(data, theta)\n",
    "    theta_per_iter = np.ones((num_iter, theta.shape[0], theta.shape[1]))\n",
    "    miss = np.zeros(y.shape)\n",
    "    ind = np.where(h_of_x==y)\n",
    "    miss[ind] = 1\n",
    "    for i in range(num_iter):\n",
    "        for j in range(0, data.shape[1]):\n",
    "            theta[j,0] = theta[j,0] - ((alpha/data.shape[0])* (np.sum(np.dot(miss.T,np.expand_dims(data[:,j], axis=1)))))\n",
    "        h_of_x = ComputeHypothesis(data, theta)\n",
    "        mselist[i] = ComputeCost(y, h_of_x)\n",
    "        theta_per_iter[i,:,:]=theta\n",
    "    return theta, mselist, theta_per_iter"
   ]
  },
  {
   "cell_type": "code",
   "execution_count": 7,
   "metadata": {},
   "outputs": [],
   "source": [
    "def Train(alpha, num_iter, x, y):\n",
    "    x = Normalize(x)\n",
    "    theta, mselist, theta_per_iter = GradientDescent(y, x, num_iter, alpha)\n",
    "    h_of_x = ComputeHypothesis(x, theta)\n",
    "    mse = ComputeCost(y, h_of_x)\n",
    "    print(\"Theta: \", theta)\n",
    "    print(\"Train Mean Squared Error: \", mse)\n",
    "    return theta, h_of_x, mse, mselist, theta_per_iter"
   ]
  },
  {
   "cell_type": "code",
   "execution_count": 8,
   "metadata": {},
   "outputs": [],
   "source": [
    "def accuracy(y_true, y_pred):\n",
    "    correct = 0\n",
    "    for i in range(y_true.shape[0]):\n",
    "        if y_true[i] == y_pred[i]:\n",
    "            correct += 1\n",
    "    return correct / y_true.shape[0]\n"
   ]
  },
  {
   "cell_type": "code",
   "execution_count": 9,
   "metadata": {},
   "outputs": [],
   "source": [
    "def Predict( x, theta):\n",
    "    x = Normalize(x)\n",
    "    h_of_x_p = ComputeHypothesis(x, theta)\n",
    "    y_pred = np.copy(h_of_x_p)\n",
    "    for i in range(len(y_pred)):\n",
    "        if y_pred[i] > 0:\n",
    "            y_pred[i] = 1\n",
    "        elif y_pred[i] <= 0:\n",
    "            y_pred[i] = -1\n",
    "    return h_of_x_p, y_pred"
   ]
  },
  {
   "cell_type": "code",
   "execution_count": 10,
   "metadata": {},
   "outputs": [],
   "source": [
    "alpha = 0.1\n",
    "num_iter = 500\n",
    "chosen = ['Gentoo', 'Chinstrap']\n",
    "x_train1, y_train1, x_test1, y_test1, w0, w1 = prepare_data(chosen)"
   ]
  },
  {
   "cell_type": "code",
   "execution_count": 11,
   "metadata": {},
   "outputs": [
    {
     "name": "stdout",
     "output_type": "stream",
     "text": [
      "Theta:  [[-31.14285714]\n",
      " [-27.86682542]\n",
      " [-29.24505663]]\n",
      "Train Mean Squared Error:  2.571428571428571\n",
      "Test Mean Squared Error:  2.6666666666666665\n",
      "Test Accuracy:  0.3333333333333333\n"
     ]
    }
   ],
   "source": [
    "theta1, h_of_x1, mse1, mselist1, theta_per_iter1 = Train(alpha, num_iter, x_train1, y_train1)\n",
    "h_of_x_p1, y_pred1 = Predict( x_test1, theta1)\n",
    "mse1 = ComputeCost(y_test1, h_of_x_p1)\n",
    "acc1 = accuracy(y_test1, y_pred1)\n",
    "print(\"Test Mean Squared Error: \", mse1)\n",
    "print(\"Test Accuracy: \", acc1)"
   ]
  },
  {
   "cell_type": "code",
   "execution_count": 12,
   "metadata": {},
   "outputs": [
    {
     "data": {
      "text/plain": [
       "[<matplotlib.lines.Line2D at 0x2002210e630>]"
      ]
     },
     "execution_count": 12,
     "metadata": {},
     "output_type": "execute_result"
    },
    {
     "data": {
      "image/png": "[encoded data removed]",
      "text/plain": [
       "<Figure size 432x288 with 1 Axes>"
      ]
     },
     "metadata": {},
     "output_type": "display_data"
    }
   ],
   "source": [
    "plt.plot(np.arange(num_iter),mselist1)"
   ]
  },
  {
   "cell_type": "code",
   "execution_count": 13,
   "metadata": {},
   "outputs": [],
   "source": [
    "index1 = np.where(mselist1==np.min(mselist1))[0]\n",
    "best_theta1 = theta_per_iter1[index1[0]]"
   ]
  },
  {
   "cell_type": "code",
   "execution_count": 14,
   "metadata": {},
   "outputs": [
    {
     "name": "stdout",
     "output_type": "stream",
     "text": [
      "[[-0.02857143]\n",
      " [ 0.07626159]\n",
      " [ 0.03215819]]\n"
     ]
    }
   ],
   "source": [
    "print(best_theta1)"
   ]
  },
  {
   "cell_type": "code",
   "execution_count": 15,
   "metadata": {},
   "outputs": [
    {
     "name": "stdout",
     "output_type": "stream",
     "text": [
      "Test Mean Squared Error:  0.0\n",
      "Test Accuracy:  1.0\n"
     ]
    }
   ],
   "source": [
    "h_of_x_p1, y_pred1 = Predict( x_test1, best_theta1)\n",
    "mse1 = ComputeCost(y_test1, h_of_x_p1)\n",
    "acc1 = accuracy(y_test1, y_pred1)\n",
    "print(\"Test Mean Squared Error: \", mse1)\n",
    "print(\"Test Accuracy: \", acc1)"
   ]
  },
  {
   "cell_type": "code",
   "execution_count": 16,
   "metadata": {},
   "outputs": [
    {
     "data": {
      "text/plain": [
       "<matplotlib.contour.QuadContourSet at 0x2002221dd68>"
      ]
     },
     "execution_count": 16,
     "metadata": {},
     "output_type": "execute_result"
    },
    {
     "data": {
      "image/png": "[encoded data removed]",
      "text/plain": [
       "<Figure size 432x288 with 1 Axes>"
      ]
     },
     "metadata": {},
     "output_type": "display_data"
    }
   ],
   "source": [
    "xlist = np.linspace(-50.0, 50.0, 100)\n",
    "ylist = np.linspace(-50.0, 50.0, 100)\n",
    "X, Y = np.meshgrid(xlist, ylist)\n",
    "xplot = np.append(np.expand_dims(np.ones(X.ravel().shape),axis=1),np.expand_dims(X.ravel(),axis=1), axis=1)\n",
    "xplot = np.append(xplot,np.expand_dims(Y.ravel(), axis=1), axis=1)\n",
    "Z = Predict(xplot,best_theta1)\n",
    "plt.scatter(w0.iloc[:,0], w0.iloc[:,1],color='red')\n",
    "plt.scatter(w1.iloc[:,0], w1.iloc[:,1],color='blue')\n",
    "plt.contour(X,Y,Z[1].reshape(X.shape), levels=[0])"
   ]
  },
  {
   "cell_type": "code",
   "execution_count": null,
   "metadata": {},
   "outputs": [],
   "source": []
  },
  {
   "cell_type": "raw",
   "metadata": {},
   "source": []
  },
  {
   "cell_type": "code",
   "execution_count": 17,
   "metadata": {},
   "outputs": [
    {
     "name": "stdout",
     "output_type": "stream",
     "text": [
      "Theta:  [[0.35714286]\n",
      " [0.42266349]\n",
      " [0.39509887]]\n",
      "Train Mean Squared Error:  1.4285714285714284\n",
      "Test Mean Squared Error:  1.3333333333333333\n",
      "Test Accuracy:  0.6666666666666666\n",
      "Theta:  [[-2.21428571]\n",
      " [-1.88668254]\n",
      " [-2.02450566]]\n",
      "Train Mean Squared Error:  2.571428571428571\n",
      "Test Mean Squared Error:  2.6666666666666665\n",
      "Test Accuracy:  0.3333333333333333\n",
      "Theta:  [[-4.78571429]\n",
      " [-4.19602858]\n",
      " [-4.44411019]]\n",
      "Train Mean Squared Error:  2.571428571428571\n",
      "Test Mean Squared Error:  2.6666666666666665\n",
      "Test Accuracy:  0.3333333333333333\n",
      "Theta:  [[-7.35714286]\n",
      " [-6.50537461]\n",
      " [-6.86371472]]\n",
      "Train Mean Squared Error:  2.571428571428571\n",
      "Test Mean Squared Error:  2.6666666666666665\n",
      "Test Accuracy:  0.3333333333333333\n",
      "Theta:  [[-9.92857143]\n",
      " [-8.81472064]\n",
      " [-9.28331925]]\n",
      "Train Mean Squared Error:  2.571428571428571\n",
      "Test Mean Squared Error:  2.6666666666666665\n",
      "Test Accuracy:  0.3333333333333333\n",
      "Theta:  [[-12.5       ]\n",
      " [-11.12406668]\n",
      " [-11.70292378]]\n",
      "Train Mean Squared Error:  2.571428571428571\n",
      "Test Mean Squared Error:  2.6666666666666665\n",
      "Test Accuracy:  0.3333333333333333\n",
      "Theta:  [[-15.07142857]\n",
      " [-13.43341271]\n",
      " [-14.12252832]]\n",
      "Train Mean Squared Error:  2.571428571428571\n",
      "Test Mean Squared Error:  2.6666666666666665\n",
      "Test Accuracy:  0.3333333333333333\n",
      "Theta:  [[-17.64285714]\n",
      " [-15.74275874]\n",
      " [-16.54213285]]\n",
      "Train Mean Squared Error:  2.571428571428571\n",
      "Test Mean Squared Error:  2.6666666666666665\n",
      "Test Accuracy:  0.3333333333333333\n",
      "Theta:  [[-20.21428571]\n",
      " [-18.05210478]\n",
      " [-18.96173738]]\n",
      "Train Mean Squared Error:  2.571428571428571\n",
      "Test Mean Squared Error:  2.6666666666666665\n",
      "Test Accuracy:  0.3333333333333333\n",
      "Theta:  [[-22.78571429]\n",
      " [-20.36145081]\n",
      " [-21.38134191]]\n",
      "Train Mean Squared Error:  2.571428571428571\n",
      "Test Mean Squared Error:  2.6666666666666665\n",
      "Test Accuracy:  0.3333333333333333\n",
      "Theta:  [[-25.35714286]\n",
      " [-22.67079685]\n",
      " [-23.80094644]]\n",
      "Train Mean Squared Error:  2.571428571428571\n",
      "Test Mean Squared Error:  2.6666666666666665\n",
      "Test Accuracy:  0.3333333333333333\n",
      "Theta:  [[-27.92857143]\n",
      " [-24.98014288]\n",
      " [-26.22055097]]\n",
      "Train Mean Squared Error:  2.571428571428571\n",
      "Test Mean Squared Error:  2.6666666666666665\n",
      "Test Accuracy:  0.3333333333333333\n",
      "Theta:  [[-30.5       ]\n",
      " [-27.28948891]\n",
      " [-28.6401555 ]]\n",
      "Train Mean Squared Error:  2.571428571428571\n",
      "Test Mean Squared Error:  2.6666666666666665\n",
      "Test Accuracy:  0.3333333333333333\n",
      "Theta:  [[-33.07142857]\n",
      " [-29.59883495]\n",
      " [-31.05976003]]\n",
      "Train Mean Squared Error:  2.571428571428571\n",
      "Test Mean Squared Error:  2.6666666666666665\n",
      "Test Accuracy:  0.3333333333333333\n",
      "Theta:  [[-35.64285714]\n",
      " [-31.90818098]\n",
      " [-33.47936456]]\n",
      "Train Mean Squared Error:  2.571428571428571\n",
      "Test Mean Squared Error:  2.6666666666666665\n",
      "Test Accuracy:  0.3333333333333333\n",
      "Theta:  [[-38.21428571]\n",
      " [-34.21752701]\n",
      " [-35.89896909]]\n",
      "Train Mean Squared Error:  2.571428571428571\n",
      "Test Mean Squared Error:  2.6666666666666665\n",
      "Test Accuracy:  0.3333333333333333\n",
      "Theta:  [[-40.78571429]\n",
      " [-36.52687305]\n",
      " [-38.31857362]]\n",
      "Train Mean Squared Error:  2.571428571428571\n",
      "Test Mean Squared Error:  2.6666666666666665\n",
      "Test Accuracy:  0.3333333333333333\n",
      "Theta:  [[-43.35714286]\n",
      " [-38.83621908]\n",
      " [-40.73817815]]\n",
      "Train Mean Squared Error:  2.571428571428571\n",
      "Test Mean Squared Error:  2.6666666666666665\n",
      "Test Accuracy:  0.3333333333333333\n",
      "Theta:  [[-45.92857143]\n",
      " [-41.14556512]\n",
      " [-43.15778268]]\n",
      "Train Mean Squared Error:  2.571428571428571\n",
      "Test Mean Squared Error:  2.6666666666666665\n",
      "Test Accuracy:  0.3333333333333333\n",
      "Theta:  [[-48.5       ]\n",
      " [-43.45491115]\n",
      " [-45.57738721]]\n",
      "Train Mean Squared Error:  2.571428571428571\n",
      "Test Mean Squared Error:  2.6666666666666665\n",
      "Test Accuracy:  0.3333333333333333\n",
      "Theta:  [[-51.07142857]\n",
      " [-45.76425718]\n",
      " [-47.99699174]]\n",
      "Train Mean Squared Error:  2.571428571428571\n",
      "Test Mean Squared Error:  2.6666666666666665\n",
      "Test Accuracy:  0.3333333333333333\n",
      "Theta:  [[-53.64285714]\n",
      " [-48.07360322]\n",
      " [-50.41659627]]\n",
      "Train Mean Squared Error:  2.571428571428571\n",
      "Test Mean Squared Error:  2.6666666666666665\n",
      "Test Accuracy:  0.3333333333333333\n",
      "Theta:  [[-56.21428571]\n",
      " [-50.38294925]\n",
      " [-52.8362008 ]]\n",
      "Train Mean Squared Error:  2.571428571428571\n",
      "Test Mean Squared Error:  2.6666666666666665\n",
      "Test Accuracy:  0.3333333333333333\n",
      "Theta:  [[-58.78571429]\n",
      " [-52.69229528]\n",
      " [-55.25580533]]\n",
      "Train Mean Squared Error:  2.571428571428571\n",
      "Test Mean Squared Error:  2.6666666666666665\n",
      "Test Accuracy:  0.3333333333333333\n",
      "Theta:  [[-61.35714286]\n",
      " [-55.00164132]\n",
      " [-57.67540986]]\n",
      "Train Mean Squared Error:  2.571428571428571\n",
      "Test Mean Squared Error:  2.6666666666666665\n",
      "Test Accuracy:  0.3333333333333333\n"
     ]
    }
   ],
   "source": [
    "alpha = np.arange(0.01, 0.99, 0.04)\n",
    "alphalist = list()\n",
    "num_iter = 100\n",
    "for a in alpha:\n",
    "    theta1, h_of_x1, mse1, mselist1, theta_per_iter1 = Train(a, num_iter, x_train1, y_train1)\n",
    "    h_of_x_p1, y_pred1 = Predict( x_test1, theta1)\n",
    "    mse1 = ComputeCost(y_test1, h_of_x_p1)\n",
    "    acc1 = accuracy(y_test1, y_pred1)\n",
    "    alphalist.append(mselist1)\n",
    "    print(\"Test Mean Squared Error: \", mse1)\n",
    "    print(\"Test Accuracy: \", acc1)"
   ]
  },
  {
   "cell_type": "code",
   "execution_count": 26,
   "metadata": {},
   "outputs": [
    {
     "data": {
      "image/png": "[encoded data removed]",
      "text/plain": [
       "<Figure size 576x576 with 1 Axes>"
      ]
     },
     "metadata": {},
     "output_type": "display_data"
    }
   ],
   "source": [
    "plt.figure(figsize=(8,8))\n",
    "for i in range(len(alphalist)):\n",
    "    plt.plot(np.arange(num_iter),alphalist[i],label=alpha[i])\n",
    "    plt.legend(loc='center left', bbox_to_anchor=(1.0, 0.5))\n",
    "plt.xlim((0,40))\n",
    "plt.show()"
   ]
  },
  {
   "cell_type": "code",
   "execution_count": null,
   "metadata": {},
   "outputs": [],
   "source": []
  }
 ],
 "metadata": {
  "kernelspec": {
   "display_name": "Python 3",
   "language": "python",
   "name": "python3"
  },
  "language_info": {
   "codemirror_mode": {
    "name": "ipython",
    "version": 3
   },
   "file_extension": ".py",
   "mimetype": "text/x-python",
   "name": "python",
   "nbconvert_exporter": "python",
   "pygments_lexer": "ipython3",
   "version": "3.6.5"
  }
 },
 "nbformat": 4,
 "nbformat_minor": 2
}
