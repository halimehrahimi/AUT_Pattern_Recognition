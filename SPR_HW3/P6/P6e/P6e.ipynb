{
 "cells": [
  {
   "cell_type": "code",
   "execution_count": 1,
   "metadata": {},
   "outputs": [],
   "source": [
    "import pandas as pd\n",
    "import numpy as np\n",
    "import matplotlib.pyplot as plt\n",
    "import numdifftools as nm"
   ]
  },
  {
   "cell_type": "markdown",
   "metadata": {},
   "source": [
    "# Part e"
   ]
  },
  {
   "cell_type": "code",
   "execution_count": 36,
   "metadata": {},
   "outputs": [],
   "source": [
    "def prepare_data(chosenspecies):\n",
    "    df = pd.read_csv('F:/Uni/991/Pattern/SPR_HW3/SPR_HW3/inputs/P6/penguins.csv')\n",
    "    df = df.loc[:,['bill_length_mm', 'bill_depth_mm', 'species']]\n",
    "    df = df.fillna(df.mean())\n",
    "    df = df.sample(frac=1 ,replace=False, axis = 0).reset_index(drop=True)\n",
    "    df_train = df.iloc[:300]\n",
    "    df_test = df.iloc[300:]\n",
    "    df_train1 = pd.concat([df_train[df_train['species']==chosenspecies[1]], df_train[df_train['species']==chosenspecies[0]]]).reset_index(drop=True)\n",
    "    df_train1 = pd.concat([pd.DataFrame({'x0':np.ones((df_train1.shape[0]))}), df_train1], axis=1)\n",
    "    df_train1 = df_train1.sample(frac=1 ,replace=False, axis = 0).reset_index(drop=True)\n",
    "    df_test1 = pd.concat([df_test[df_test['species']==chosenspecies[1]], df_test[df_test['species']==chosenspecies[0]]]).reset_index(drop=True)\n",
    "    df_test1 = pd.concat([pd.DataFrame({'x0':np.ones((df_test1.shape[0]))}), df_test1], axis=1)\n",
    "    df_test1 = df_test1.sample(frac=1 ,replace=False, axis = 0).reset_index(drop=True)\n",
    "    for i in range(df_train1.shape[0]):\n",
    "        if df_train1.loc[i,'species'] == chosenspecies[1]:\n",
    "            df_train1.loc[i, 'x0']*=-1\n",
    "            df_train1.loc[i, 'bill_length_mm']*=-1\n",
    "            df_train1.loc[i, 'bill_depth_mm']*=-1\n",
    "    for j in range(df_test1.shape[0]):\n",
    "        if df_test1.loc[j,'species'] == chosenspecies[1]:\n",
    "            df_test1.loc[j, 'x0']*=-1\n",
    "            df_test1.loc[j, 'bill_length_mm']*=-1\n",
    "            df_test1.loc[j, 'bill_depth_mm']*=-1\n",
    "    x_train1 = np.array(df_train1.drop(columns='species'))\n",
    "    y_train1 = np.array(df_train1['species'].mask(df_train1['species']==chosenspecies[0], 1).mask(df_train1['species']==chosenspecies[1], -1))\n",
    "    y_train1 = np.expand_dims(y_train1, axis=1)\n",
    "    x_test1 = np.array(df_test1.drop(columns='species'))\n",
    "    y_test1 = np.array(df_test1['species'].mask(df_test1['species']==chosenspecies[0], 1).mask(df_test1['species']==chosenspecies[1], -1))\n",
    "    y_test1 = np.expand_dims(y_test1, axis=1)\n",
    "    w0 = df_train1.loc[df_train1['species']==chosenspecies[0],['bill_length_mm',  'bill_depth_mm']].reset_index(drop=True)\n",
    "    w1 = df_train1.loc[df_train1['species']==chosenspecies[1],['bill_length_mm',  'bill_depth_mm']].reset_index(drop=True)\n",
    "    return x_train1, y_train1, x_test1, y_test1, w0, w1"
   ]
  },
  {
   "cell_type": "code",
   "execution_count": 3,
   "metadata": {},
   "outputs": [],
   "source": [
    "def Normalize(x):\n",
    "    norm_x = np.ones((x.shape[0], x.shape[1]))\n",
    "    for i in range(1,x.shape[1]):\n",
    "        min_x = np.amin(x[:,i])\n",
    "        max_x = np.amax(x[:,i])\n",
    "        norm_x[:,i] = (x[:,i] - min_x)/(max_x - min_x)\n",
    "    return norm_x"
   ]
  },
  {
   "cell_type": "code",
   "execution_count": 4,
   "metadata": {},
   "outputs": [],
   "source": [
    "def ComputeCost(y, h_of_x):\n",
    "    mse = (1/y.shape[0]) * np.sum(np.power(h_of_x - y, 2))\n",
    "    return mse"
   ]
  },
  {
   "cell_type": "code",
   "execution_count": 5,
   "metadata": {},
   "outputs": [],
   "source": [
    "def ComputeHypothesis(data, theta):\n",
    "    h_of_x = np.ones((data.shape[0], 1))\n",
    "    for i in range(0,data.shape[0]):\n",
    "        h_of_x[i] = np.dot(np.transpose(theta), np.expand_dims(data[i,:], axis=1))\n",
    "        if h_of_x[i] > 0:\n",
    "            h_of_x[i] = 1\n",
    "        elif h_of_x[i] <= 0:\n",
    "            h_of_x[i] = -1\n",
    "    return h_of_x"
   ]
  },
  {
   "cell_type": "code",
   "execution_count": 6,
   "metadata": {},
   "outputs": [],
   "source": [
    "def GradientDescent(y, data, num_iter, alpha):\n",
    "    theta = np.ones((data.shape[1], 1))\n",
    "    mselist = np.zeros(num_iter)\n",
    "    h_of_x = ComputeHypothesis(data, theta)\n",
    "    theta_per_iter = np.ones((num_iter, theta.shape[0], theta.shape[1]))\n",
    "    miss = np.zeros(y.shape)\n",
    "    ind = np.where(h_of_x==y)\n",
    "    miss[ind] = 1\n",
    "    for i in range(num_iter):\n",
    "        for j in range(0, data.shape[1]):\n",
    "            theta[j,0] = theta[j,0] - ((alpha/data.shape[0])* (np.sum(np.dot(miss.T,np.expand_dims(data[:,j], axis=1)))))\n",
    "        h_of_x = ComputeHypothesis(data, theta)\n",
    "        mselist[i] = ComputeCost(y, h_of_x)\n",
    "        theta_per_iter[i,:,:]=theta\n",
    "    return theta, mselist, theta_per_iter"
   ]
  },
  {
   "cell_type": "code",
   "execution_count": 7,
   "metadata": {},
   "outputs": [],
   "source": [
    "def Train(alpha, num_iter, x, y):\n",
    "    x = Normalize(x)\n",
    "    theta, mselist, theta_per_iter = GradientDescent(y, x, num_iter, alpha)\n",
    "    h_of_x = ComputeHypothesis(x, theta)\n",
    "    mse = ComputeCost(y, h_of_x)\n",
    "    print(\"Theta: \", theta)\n",
    "    print(\"Train Mean Squared Error: \", mse)\n",
    "    return theta, h_of_x, mse, mselist, theta_per_iter"
   ]
  },
  {
   "cell_type": "code",
   "execution_count": 8,
   "metadata": {},
   "outputs": [],
   "source": [
    "def accuracy(y_true, y_pred):\n",
    "    correct = 0\n",
    "    for i in range(y_true.shape[0]):\n",
    "        if y_true[i] == y_pred[i]:\n",
    "            correct += 1\n",
    "    return correct / y_true.shape[0]\n"
   ]
  },
  {
   "cell_type": "code",
   "execution_count": 9,
   "metadata": {},
   "outputs": [],
   "source": [
    "def Predict( x, theta):\n",
    "    x = Normalize(x)\n",
    "    h_of_x_p = ComputeHypothesis(x, theta)\n",
    "    y_pred = np.copy(h_of_x_p)\n",
    "    for i in range(len(y_pred)):\n",
    "        if y_pred[i] > 0:\n",
    "            y_pred[i] = 1\n",
    "        elif y_pred[i] <= 0:\n",
    "            y_pred[i] = -1\n",
    "    return h_of_x_p, y_pred"
   ]
  },
  {
   "cell_type": "code",
   "execution_count": 50,
   "metadata": {},
   "outputs": [
    {
     "name": "stdout",
     "output_type": "stream",
     "text": [
      "      x0  bill_length_mm  bill_depth_mm species\n",
      "0   -1.0           -38.9          -17.8  Adelie\n",
      "1   -1.0           -38.7          -19.0  Adelie\n",
      "2    1.0            45.2           13.8  Gentoo\n",
      "3   -1.0           -35.5          -17.5  Adelie\n",
      "4   -1.0           -34.5          -18.1  Adelie\n",
      "..   ...             ...            ...     ...\n",
      "236  1.0            47.3           15.3  Gentoo\n",
      "237  1.0            48.7           15.1  Gentoo\n",
      "238 -1.0           -41.5          -18.5  Adelie\n",
      "239  1.0            52.2           17.1  Gentoo\n",
      "240 -1.0           -40.6          -18.8  Adelie\n",
      "\n",
      "[241 rows x 4 columns]\n"
     ]
    }
   ],
   "source": [
    "alpha = 0.1\n",
    "num_iter = 500\n",
    "chosen = ['Gentoo', 'Adelie']\n",
    "x_train1, y_train1, x_test1, y_test1, w0, w1 = prepare_data(chosen)"
   ]
  },
  {
   "cell_type": "code",
   "execution_count": 51,
   "metadata": {},
   "outputs": [
    {
     "name": "stdout",
     "output_type": "stream",
     "text": [
      "Theta:  [[-22.4439834 ]\n",
      " [-19.77816926]\n",
      " [-21.06469591]]\n",
      "Train Mean Squared Error:  1.8755186721991701\n",
      "Test Mean Squared Error:  1.2571428571428571\n",
      "Test Accuracy:  0.6857142857142857\n"
     ]
    }
   ],
   "source": [
    "theta1, h_of_x1, mse1, mselist1, theta_per_iter1 = Train(alpha, num_iter, x_train1, y_train1)\n",
    "h_of_x_p1, y_pred1 = Predict( x_test1, theta1)\n",
    "mse1 = ComputeCost(y_test1, h_of_x_p1)\n",
    "acc1 = accuracy(y_test1, y_pred1)\n",
    "print(\"Test Mean Squared Error: \", mse1)\n",
    "print(\"Test Accuracy: \", acc1)"
   ]
  },
  {
   "cell_type": "code",
   "execution_count": 52,
   "metadata": {},
   "outputs": [
    {
     "data": {
      "text/plain": [
       "[<matplotlib.lines.Line2D at 0x20022408ac8>]"
      ]
     },
     "execution_count": 52,
     "metadata": {},
     "output_type": "execute_result"
    },
    {
     "data": {
      "image/png": "[encoded data removed]",
      "text/plain": [
       "<Figure size 432x288 with 1 Axes>"
      ]
     },
     "metadata": {},
     "output_type": "display_data"
    }
   ],
   "source": [
    "plt.plot(np.arange(num_iter),mselist1)"
   ]
  },
  {
   "cell_type": "code",
   "execution_count": 53,
   "metadata": {},
   "outputs": [],
   "source": [
    "index1 = np.where(mselist1==np.min(mselist1))[0]\n",
    "best_theta1 = theta_per_iter1[index1[0]]"
   ]
  },
  {
   "cell_type": "code",
   "execution_count": 54,
   "metadata": {},
   "outputs": [
    {
     "name": "stdout",
     "output_type": "stream",
     "text": [
      "[[-0.03153527]\n",
      " [ 0.08576055]\n",
      " [ 0.02915338]]\n"
     ]
    }
   ],
   "source": [
    "print(best_theta1)"
   ]
  },
  {
   "cell_type": "code",
   "execution_count": 55,
   "metadata": {},
   "outputs": [
    {
     "name": "stdout",
     "output_type": "stream",
     "text": [
      "Test Mean Squared Error:  0.0\n",
      "Test Accuracy:  1.0\n"
     ]
    }
   ],
   "source": [
    "h_of_x_p1, y_pred1 = Predict( x_test1, best_theta1)\n",
    "mse1 = ComputeCost(y_test1, h_of_x_p1)\n",
    "acc1 = accuracy(y_test1, y_pred1)\n",
    "print(\"Test Mean Squared Error: \", mse1)\n",
    "print(\"Test Accuracy: \", acc1)"
   ]
  },
  {
   "cell_type": "code",
   "execution_count": 56,
   "metadata": {},
   "outputs": [
    {
     "data": {
      "text/plain": [
       "<matplotlib.contour.QuadContourSet at 0x20022981c18>"
      ]
     },
     "execution_count": 56,
     "metadata": {},
     "output_type": "execute_result"
    },
    {
     "data": {
      "image/png": "[encoded data removed]",
      "text/plain": [
       "<Figure size 432x288 with 1 Axes>"
      ]
     },
     "metadata": {},
     "output_type": "display_data"
    }
   ],
   "source": [
    "xlist = np.linspace(-50.0, 50.0, 100)\n",
    "ylist = np.linspace(-50.0, 50.0, 100)\n",
    "X, Y = np.meshgrid(xlist, ylist)\n",
    "xplot = np.append(np.expand_dims(np.ones(X.ravel().shape),axis=1),np.expand_dims(X.ravel(),axis=1), axis=1)\n",
    "xplot = np.append(xplot,np.expand_dims(Y.ravel(), axis=1), axis=1)\n",
    "Z = Predict(xplot,best_theta1)\n",
    "plt.scatter(w0.iloc[:,0], w0.iloc[:,1],color='red')\n",
    "plt.scatter(w1.iloc[:,0], w1.iloc[:,1],color='blue')\n",
    "plt.contour(X,Y,Z[1].reshape(X.shape), levels=[0])"
   ]
  },
  {
   "cell_type": "code",
   "execution_count": null,
   "metadata": {},
   "outputs": [],
   "source": []
  },
  {
   "cell_type": "raw",
   "metadata": {},
   "source": []
  },
  {
   "cell_type": "code",
   "execution_count": 57,
   "metadata": {},
   "outputs": [
    {
     "name": "stdout",
     "output_type": "stream",
     "text": [
      "Theta:  [[0.53112033]\n",
      " [0.58443661]\n",
      " [0.55870608]]\n",
      "Train Mean Squared Error:  2.12448132780083\n",
      "Test Mean Squared Error:  2.742857142857143\n",
      "Test Accuracy:  0.3142857142857143\n",
      "Theta:  [[-1.34439834]\n",
      " [-1.07781693]\n",
      " [-1.20646959]]\n",
      "Train Mean Squared Error:  1.8755186721991701\n",
      "Test Mean Squared Error:  1.2571428571428571\n",
      "Test Accuracy:  0.6857142857142857\n",
      "Theta:  [[-3.21991701]\n",
      " [-2.74007047]\n",
      " [-2.97164526]]\n",
      "Train Mean Squared Error:  1.8755186721991701\n",
      "Test Mean Squared Error:  1.2571428571428571\n",
      "Test Accuracy:  0.6857142857142857\n",
      "Theta:  [[-5.09543568]\n",
      " [-4.40232401]\n",
      " [-4.73682094]]\n",
      "Train Mean Squared Error:  1.8755186721991701\n",
      "Test Mean Squared Error:  1.2571428571428571\n",
      "Test Accuracy:  0.6857142857142857\n",
      "Theta:  [[-6.97095436]\n",
      " [-6.06457755]\n",
      " [-6.50199661]]\n",
      "Train Mean Squared Error:  1.8755186721991701\n",
      "Test Mean Squared Error:  1.2571428571428571\n",
      "Test Accuracy:  0.6857142857142857\n",
      "Theta:  [[-8.84647303]\n",
      " [-7.72683109]\n",
      " [-8.26717228]]\n",
      "Train Mean Squared Error:  1.8755186721991701\n",
      "Test Mean Squared Error:  1.2571428571428571\n",
      "Test Accuracy:  0.6857142857142857\n",
      "Theta:  [[-10.7219917 ]\n",
      " [ -9.38908463]\n",
      " [-10.03234795]]\n",
      "Train Mean Squared Error:  1.8755186721991701\n",
      "Test Mean Squared Error:  1.2571428571428571\n",
      "Test Accuracy:  0.6857142857142857\n",
      "Theta:  [[-12.59751037]\n",
      " [-11.05133817]\n",
      " [-11.79752363]]\n",
      "Train Mean Squared Error:  1.8755186721991701\n",
      "Test Mean Squared Error:  1.2571428571428571\n",
      "Test Accuracy:  0.6857142857142857\n",
      "Theta:  [[-14.47302905]\n",
      " [-12.71359171]\n",
      " [-13.5626993 ]]\n",
      "Train Mean Squared Error:  1.8755186721991701\n",
      "Test Mean Squared Error:  1.2571428571428571\n",
      "Test Accuracy:  0.6857142857142857\n",
      "Theta:  [[-16.34854772]\n",
      " [-14.37584526]\n",
      " [-15.32787497]]\n",
      "Train Mean Squared Error:  1.8755186721991701\n",
      "Test Mean Squared Error:  1.2571428571428571\n",
      "Test Accuracy:  0.6857142857142857\n",
      "Theta:  [[-18.22406639]\n",
      " [-16.0380988 ]\n",
      " [-17.09305064]]\n",
      "Train Mean Squared Error:  1.8755186721991701\n",
      "Test Mean Squared Error:  1.2571428571428571\n",
      "Test Accuracy:  0.6857142857142857\n",
      "Theta:  [[-20.09958506]\n",
      " [-17.70035234]\n",
      " [-18.85822632]]\n",
      "Train Mean Squared Error:  1.8755186721991701\n",
      "Test Mean Squared Error:  1.2571428571428571\n",
      "Test Accuracy:  0.6857142857142857\n",
      "Theta:  [[-21.97510373]\n",
      " [-19.36260588]\n",
      " [-20.62340199]]\n",
      "Train Mean Squared Error:  1.8755186721991701\n",
      "Test Mean Squared Error:  1.2571428571428571\n",
      "Test Accuracy:  0.6857142857142857\n",
      "Theta:  [[-23.85062241]\n",
      " [-21.02485942]\n",
      " [-22.38857766]]\n",
      "Train Mean Squared Error:  1.8755186721991701\n",
      "Test Mean Squared Error:  1.2571428571428571\n",
      "Test Accuracy:  0.6857142857142857\n",
      "Theta:  [[-25.72614108]\n",
      " [-22.68711296]\n",
      " [-24.15375333]]\n",
      "Train Mean Squared Error:  1.8755186721991701\n",
      "Test Mean Squared Error:  1.2571428571428571\n",
      "Test Accuracy:  0.6857142857142857\n",
      "Theta:  [[-27.60165975]\n",
      " [-24.3493665 ]\n",
      " [-25.91892901]]\n",
      "Train Mean Squared Error:  1.8755186721991701\n",
      "Test Mean Squared Error:  1.2571428571428571\n",
      "Test Accuracy:  0.6857142857142857\n",
      "Theta:  [[-29.47717842]\n",
      " [-26.01162004]\n",
      " [-27.68410468]]\n",
      "Train Mean Squared Error:  1.8755186721991701\n",
      "Test Mean Squared Error:  1.2571428571428571\n",
      "Test Accuracy:  0.6857142857142857\n",
      "Theta:  [[-31.3526971 ]\n",
      " [-27.67387358]\n",
      " [-29.44928035]]\n",
      "Train Mean Squared Error:  1.8755186721991701\n",
      "Test Mean Squared Error:  1.2571428571428571\n",
      "Test Accuracy:  0.6857142857142857\n",
      "Theta:  [[-33.22821577]\n",
      " [-29.33612712]\n",
      " [-31.21445602]]\n",
      "Train Mean Squared Error:  1.8755186721991701\n",
      "Test Mean Squared Error:  1.2571428571428571\n",
      "Test Accuracy:  0.6857142857142857\n",
      "Theta:  [[-35.10373444]\n",
      " [-30.99838067]\n",
      " [-32.9796317 ]]\n",
      "Train Mean Squared Error:  1.8755186721991701\n",
      "Test Mean Squared Error:  1.2571428571428571\n",
      "Test Accuracy:  0.6857142857142857\n",
      "Theta:  [[-36.97925311]\n",
      " [-32.66063421]\n",
      " [-34.74480737]]\n",
      "Train Mean Squared Error:  1.8755186721991701\n",
      "Test Mean Squared Error:  1.2571428571428571\n",
      "Test Accuracy:  0.6857142857142857\n",
      "Theta:  [[-38.85477178]\n",
      " [-34.32288775]\n",
      " [-36.50998304]]\n",
      "Train Mean Squared Error:  1.8755186721991701\n",
      "Test Mean Squared Error:  1.2571428571428571\n",
      "Test Accuracy:  0.6857142857142857\n",
      "Theta:  [[-40.73029046]\n",
      " [-35.98514129]\n",
      " [-38.27515871]]\n",
      "Train Mean Squared Error:  1.8755186721991701\n",
      "Test Mean Squared Error:  1.2571428571428571\n",
      "Test Accuracy:  0.6857142857142857\n",
      "Theta:  [[-42.60580913]\n",
      " [-37.64739483]\n",
      " [-40.04033439]]\n",
      "Train Mean Squared Error:  1.8755186721991701\n",
      "Test Mean Squared Error:  1.2571428571428571\n",
      "Test Accuracy:  0.6857142857142857\n",
      "Theta:  [[-44.4813278 ]\n",
      " [-39.30964837]\n",
      " [-41.80551006]]\n",
      "Train Mean Squared Error:  1.8755186721991701\n",
      "Test Mean Squared Error:  1.2571428571428571\n",
      "Test Accuracy:  0.6857142857142857\n"
     ]
    }
   ],
   "source": [
    "alpha = np.arange(0.01, 0.99, 0.04)\n",
    "alphalist = list()\n",
    "num_iter = 100\n",
    "for a in alpha:\n",
    "    theta1, h_of_x1, mse1, mselist1, theta_per_iter1 = Train(a, num_iter, x_train1, y_train1)\n",
    "    h_of_x_p1, y_pred1 = Predict( x_test1, theta1)\n",
    "    mse1 = ComputeCost(y_test1, h_of_x_p1)\n",
    "    acc1 = accuracy(y_test1, y_pred1)\n",
    "    alphalist.append(mselist1)\n",
    "    print(\"Test Mean Squared Error: \", mse1)\n",
    "    print(\"Test Accuracy: \", acc1)"
   ]
  },
  {
   "cell_type": "code",
   "execution_count": 58,
   "metadata": {},
   "outputs": [
    {
     "data": {
      "image/png": "[encoded data removed]",
      "text/plain": [
       "<Figure size 576x576 with 1 Axes>"
      ]
     },
     "metadata": {},
     "output_type": "display_data"
    }
   ],
   "source": [
    "plt.figure(figsize=(8,8))\n",
    "for i in range(len(alphalist)):\n",
    "    plt.plot(np.arange(num_iter),alphalist[i],label=alpha[i])\n",
    "    plt.legend(loc='center left', bbox_to_anchor=(1.0, 0.5))\n",
    "plt.xlim((0,40))\n",
    "plt.show()"
   ]
  },
  {
   "cell_type": "code",
   "execution_count": null,
   "metadata": {},
   "outputs": [],
   "source": []
  }
 ],
 "metadata": {
  "kernelspec": {
   "display_name": "Python 3",
   "language": "python",
   "name": "python3"
  },
  "language_info": {
   "codemirror_mode": {
    "name": "ipython",
    "version": 3
   },
   "file_extension": ".py",
   "mimetype": "text/x-python",
   "name": "python",
   "nbconvert_exporter": "python",
   "pygments_lexer": "ipython3",
   "version": "3.6.5"
  }
 },
 "nbformat": 4,
 "nbformat_minor": 2
}
