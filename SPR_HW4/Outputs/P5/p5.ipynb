{
 "cells": [
  {
   "cell_type": "code",
   "execution_count": 1,
   "metadata": {},
   "outputs": [],
   "source": [
    "import numpy as np\n",
    "import pandas as pd\n",
    "from matplotlib import pyplot as plt\n",
    "import random"
   ]
  },
  {
   "cell_type": "markdown",
   "metadata": {},
   "source": [
    "## Reading the Data"
   ]
  },
  {
   "cell_type": "code",
   "execution_count": 2,
   "metadata": {},
   "outputs": [],
   "source": [
    "data = pd.read_json(\"F:/Uni/991/Pattern/SPR_HW4/inputs/P5/tweets.json\", lines=True)\n",
    "tw = data[['id', 'text']]"
   ]
  },
  {
   "cell_type": "code",
   "execution_count": 3,
   "metadata": {},
   "outputs": [],
   "source": [
    "#data.head()"
   ]
  },
  {
   "cell_type": "code",
   "execution_count": 4,
   "metadata": {},
   "outputs": [],
   "source": [
    "#tw.head()"
   ]
  },
  {
   "cell_type": "markdown",
   "metadata": {},
   "source": [
    "## Functions"
   ]
  },
  {
   "cell_type": "code",
   "execution_count": 5,
   "metadata": {},
   "outputs": [],
   "source": [
    "#computing jaccard similarity, I use sets because the order is not important in them\n",
    "def jaccard_similarity(list1, list2):\n",
    "    intersection = len(list(set(list1).intersection(list2)))\n",
    "    union = union = (len(set(list1)) + len(set(list2))) - intersection\n",
    "    return float(intersection) / union"
   ]
  },
  {
   "cell_type": "code",
   "execution_count": 6,
   "metadata": {},
   "outputs": [],
   "source": [
    "#computing 1-j\n",
    "def jaccard(list1,list2):\n",
    "    j = jaccard_similarity(list1, list2)\n",
    "    return 1-j"
   ]
  },
  {
   "cell_type": "code",
   "execution_count": 7,
   "metadata": {},
   "outputs": [],
   "source": [
    "# initializing the centroids, if rand=True we'll have kmeans++ else we will use the given centroids\n",
    "def init_centroid(rand, k, X):\n",
    "    centroids=list()\n",
    "    if rand==False:\n",
    "        #using the given cenroids\n",
    "        c = open('F:/Uni/991/Pattern/SPR_HW4/inputs/P5/initial_centroids.txt', 'r')\n",
    "        for line in c:\n",
    "            last = line\n",
    "            centroids.append(line[:-2])\n",
    "        centroids=centroids[:-1]\n",
    "        centroids.append(last)\n",
    "    else:\n",
    "        #first centroid is chosen randomly\n",
    "        centroids = list()\n",
    "        choice = random.sample(list(X['id']), 1)[0]\n",
    "        centroids.append(choice)\n",
    "        #I drop it so it wouldn't get calculated again\n",
    "        X_d = X.drop(index=np.where(X['id']==choice)[0][0]).reset_index(drop=True)\n",
    "        #Now we're finding the distance between points\n",
    "        #The farthest point from the chosen centroids up until then are chosen as the centroid\n",
    "        for c_id in range(1, k): \n",
    "            dist = list()\n",
    "            for i in range(X_d.shape[0]): \n",
    "                d = list()\n",
    "                point = list(X_d.loc[i, 'text'].split())\n",
    "                for j in range(len(centroids)):\n",
    "                    d.append(jaccard(point, list(X.iloc[np.where(X.id==centroids[j])[0][0], 1].split())))\n",
    "                dist.append(min(d)) #the minimum distance a point has from any of the centroids \n",
    "            next_centroid = X_d.loc[np.argmax(dist), 'id'] #choosing the farthest point\n",
    "            X_d = X_d.drop(index=np.where(X_d['id']==next_centroid)[0][0]).reset_index(drop=True)\n",
    "            #dropping it so it doesn't get calculated again\n",
    "            centroids.append(next_centroid) #adding the centroid\n",
    "    return centroids"
   ]
  },
  {
   "cell_type": "code",
   "execution_count": 8,
   "metadata": {},
   "outputs": [],
   "source": [
    "#assigning the closest centroid to each point\n",
    "def find_closest_centroids(cent, X):\n",
    "    assigned_centroid = list()\n",
    "    #calculating the distance\n",
    "    for i in range(0,X.shape[0]):\n",
    "        distance=list()\n",
    "        s=list(X.iloc[i,1].split())\n",
    "        for j in cent:\n",
    "            distance.append(jaccard(s, list(X.iloc[np.where(X.id==int(j))[0][0],1].split())))\n",
    "        assigned_centroid.append(cent[np.argmin(distance)])\n",
    "    new_df = pd.concat([pd.DataFrame(X), pd.DataFrame(assigned_centroid, columns=['cluster'])],axis=1) #cluster assignment\n",
    "    return new_df"
   ]
  },
  {
   "cell_type": "code",
   "execution_count": 9,
   "metadata": {},
   "outputs": [],
   "source": [
    "#updating the centroids\n",
    "def calc_centroids(centroids,new_df):\n",
    "    new_centroids = list()\n",
    "    for c in centroids:\n",
    "        #get all the points in a cluster\n",
    "        current_cluster = new_df.iloc[np.where(new_df['cluster']==c)[0]].reset_index(drop=True)\n",
    "        distance_avg = list()\n",
    "        #calculating the average of the pairwise distance\n",
    "        for i in current_cluster['text']:\n",
    "            distance = list()\n",
    "            for j in current_cluster['text']:\n",
    "                distance.append(jaccard(list(i.split()),list(j.split())))\n",
    "            distance_avg.append(np.mean(distance)) #finding the point that has the minimum average distance to other points in the cluster\n",
    "        new_centroids.append(current_cluster.loc[np.argmin(distance_avg),'id']) #new centroids\n",
    "    \n",
    "    return new_centroids"
   ]
  },
  {
   "cell_type": "code",
   "execution_count": 10,
   "metadata": {},
   "outputs": [],
   "source": [
    "#creating the model\n",
    "def kmeans(k,rand,X):\n",
    "    #initialization\n",
    "    centroids = init_centroid(rand, k, X)\n",
    "    t = 0\n",
    "    print('Initial Centroids:\\n', centroids)\n",
    "    #the loop will stop whenever there is no update, this is done by compring the previous and the current centroids list\n",
    "    while t==0:\n",
    "        prev_centroids = centroids.copy()\n",
    "        #Assigning Clusters\n",
    "        new_df = find_closest_centroids(centroids, X)\n",
    "        #print(labels)\n",
    "        #Updating Centroids\n",
    "        centroids = calc_centroids(centroids,new_df)\n",
    "        print('---------------------')\n",
    "        print('New Centroids:')\n",
    "        print(centroids)\n",
    "        if prev_centroids == centroids:\n",
    "            t=1\n",
    "\n",
    "    return centroids,new_df"
   ]
  },
  {
   "cell_type": "markdown",
   "metadata": {},
   "source": [
    "## a."
   ]
  },
  {
   "cell_type": "code",
   "execution_count": 11,
   "metadata": {},
   "outputs": [
    {
     "name": "stdout",
     "output_type": "stream",
     "text": [
      "Part a\n",
      "K-means with given Initial Centroids:\n",
      "Initial Centroids:\n",
      " ['323906397735641088', '323906483584655360', '323906657333682176', '323907258301939713', '323909308188344320', '323913403460636673', '324067437886713856', '324117950774775809', '324138055772561408', '324219503401644033', '324320247018573824', '324346553835868161', '324372750330363904', '324408472441585664', '324422817565257728', '324448013999304704', '324785120085176320', '325059351209443329', '325060324992643072', '325162944931438592', '325253327048822784', '325337623910559745', '325409910642835456', '325701934273134594', '325946633986641920']\n",
      "---------------------\n",
      "New Centroids:\n",
      "[323906397618196483, 323906485249789952, 323906651209994241, 323906398176030720, 323909308188344320, 323913403460636673, 324038827578626048, 324117950774775809, 324070589214117888, 324375472681148416, 324427314060484608, 324348252763873283, 324372750330363904, 324408861563944960, 324422817565257728, 324448013999304704, 324785129241341952, 325059351209443329, 325060154087309312, 325171606253080577, 325253327048822784, 325335253487063041, 325409910588317696, 325701932083716096, 325946283368013824]\n",
      "---------------------\n",
      "New Centroids:\n",
      "[323906397618196483, 323906485249789952, 323906651209994241, 323906398176030720, 323909308188344320, 323913403460636673, 324038827578626048, 324117950774775809, 324070589214117888, 324375472681148416, 324427314060484608, 324348252763873283, 324372750330363904, 324408861563944960, 324422817565257728, 324448013999304704, 324785129241341952, 325059351209443329, 325060154087309312, 325171606253080577, 325253327048822784, 325335253487063041, 325409910588317696, 325701932083716096, 325946283368013824]\n"
     ]
    }
   ],
   "source": [
    "print('Part a')\n",
    "rand = False\n",
    "k = 25\n",
    "print('K-means with given Initial Centroids:')\n",
    "centroids1,new_df1 = kmeans(k,rand,tw)"
   ]
  },
  {
   "cell_type": "code",
   "execution_count": 12,
   "metadata": {},
   "outputs": [],
   "source": [
    "f = open(\"F:/Uni/991/Pattern/SPR_HW4/inputs/P5/Clusters_for_Given_Centroids.txt\", \"w\")\n",
    "for c in centroids1:\n",
    "    f.write(str(c)+':\\n')\n",
    "    for d in new_df1.loc[np.where(new_df1['cluster']==c)[0],'id']:\n",
    "        f.write(str(d) + ',')\n",
    "    f.write('\\n')\n",
    "f.close()\n"
   ]
  },
  {
   "cell_type": "markdown",
   "metadata": {},
   "source": [
    "## b."
   ]
  },
  {
   "cell_type": "code",
   "execution_count": 13,
   "metadata": {},
   "outputs": [
    {
     "name": "stdout",
     "output_type": "stream",
     "text": [
      "Part b\n",
      "K-means++:\n",
      "Initial Centroids:\n",
      " [325702287978795009, 323906397609791488, 325253327048822784, 323906398176030720, 324419757661097984, 325927476566032385, 324320247018573824, 324432383115935744, 324372750330363904, 323946504752603136, 325172960413503489, 323909308188344320, 325060145082163200, 324448013999304704, 324348252763873283, 324117950774775809, 325342218942554112, 323906651209994241, 324038827578626048, 324785120085176320, 324132606608306176, 325410327296614400, 323906483584655360, 325059351209443329, 324422817565257728]\n",
      "---------------------\n",
      "New Centroids:\n",
      "[325701932083716096, 323906397618196483, 325253327048822784, 323906398176030720, 324375472681148416, 325946283368013824, 324427314060484608, 324408861563944960, 324372750330363904, 323913403460636673, 325171606253080577, 323909308188344320, 325060154087309312, 324448013999304704, 324348252763873283, 324117950774775809, 325335253487063041, 323906651209994241, 324038827578626048, 324785129241341952, 324070589214117888, 325409910588317696, 323906485249789952, 325059351209443329, 324422817565257728]\n",
      "---------------------\n",
      "New Centroids:\n",
      "[325701932083716096, 323906397618196483, 325253327048822784, 323906398176030720, 324375472681148416, 325946283368013824, 324427314060484608, 324408861563944960, 324372750330363904, 323913403460636673, 325171606253080577, 323909308188344320, 325060154087309312, 324448013999304704, 324348252763873283, 324117950774775809, 325335253487063041, 323906651209994241, 324038827578626048, 324785129241341952, 324070589214117888, 325409910588317696, 323906485249789952, 325059351209443329, 324422817565257728]\n"
     ]
    }
   ],
   "source": [
    "print('Part b')\n",
    "rand = True\n",
    "k = 25\n",
    "print('K-means++:')\n",
    "centroids2,new_df2 = kmeans(k,rand,tw)"
   ]
  },
  {
   "cell_type": "code",
   "execution_count": 14,
   "metadata": {},
   "outputs": [],
   "source": [
    "f = open(\"F:/Uni/991/Pattern/SPR_HW4/inputs/P5/Clusters_for_Kmeans++.txt\", \"w\")\n",
    "for c in centroids2:\n",
    "    f.write(str(c)+':\\n')\n",
    "    for d in new_df2.loc[np.where(new_df2['cluster']==c)[0],'id']:\n",
    "        f.write(str(d) + ',')\n",
    "    f.write('\\n')\n",
    "f.close()\n"
   ]
  },
  {
   "cell_type": "markdown",
   "metadata": {},
   "source": [
    "## extra"
   ]
  },
  {
   "cell_type": "code",
   "execution_count": 15,
   "metadata": {},
   "outputs": [
    {
     "name": "stdout",
     "output_type": "stream",
     "text": [
      "Similarity between the chosen centroids in part a and b:\n",
      " 1.0\n"
     ]
    }
   ],
   "source": [
    "#similarity between the centroids from part a and b\n",
    "list1 = centroids1\n",
    "list2 = centroids2\n",
    "print('Similarity between the chosen centroids in part a and b:\\n', jaccard_similarity(list1, list2))"
   ]
  }
 ],
 "metadata": {
  "kernelspec": {
   "display_name": "Python 3",
   "language": "python",
   "name": "python3"
  },
  "language_info": {
   "codemirror_mode": {
    "name": "ipython",
    "version": 3
   },
   "file_extension": ".py",
   "mimetype": "text/x-python",
   "name": "python",
   "nbconvert_exporter": "python",
   "pygments_lexer": "ipython3",
   "version": "3.6.5"
  }
 },
 "nbformat": 4,
 "nbformat_minor": 2
}
